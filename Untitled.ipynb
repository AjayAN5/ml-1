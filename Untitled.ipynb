{
 "cells": [
  {
   "cell_type": "code",
   "execution_count": 1,
   "metadata": {},
   "outputs": [],
   "source": [
    "import numpy as np"
   ]
  },
  {
   "cell_type": "code",
   "execution_count": 2,
   "metadata": {},
   "outputs": [],
   "source": [
    "import csv"
   ]
  },
  {
   "cell_type": "code",
   "execution_count": 3,
   "metadata": {},
   "outputs": [],
   "source": [
    "import pandas as pd"
   ]
  },
  {
   "cell_type": "code",
   "execution_count": 4,
   "metadata": {},
   "outputs": [
    {
     "name": "stdout",
     "output_type": "stream",
     "text": [
      "Requirement already satisfied: pgmpy in c:\\users\\chait\\anaconda3\\lib\\site-packages (0.1.13)\n",
      "Requirement already satisfied: statsmodels in c:\\users\\chait\\anaconda3\\lib\\site-packages (from pgmpy) (0.12.1)\n",
      "Requirement already satisfied: tqdm in c:\\users\\chait\\anaconda3\\lib\\site-packages (from pgmpy) (4.55.0)\n",
      "Requirement already satisfied: joblib in c:\\users\\chait\\anaconda3\\lib\\site-packages (from pgmpy) (1.0.0)\n",
      "Requirement already satisfied: scipy in c:\\users\\chait\\anaconda3\\lib\\site-packages (from pgmpy) (1.5.2)\n",
      "Requirement already satisfied: scikit-learn in c:\\users\\chait\\anaconda3\\lib\\site-packages (from pgmpy) (0.23.2)\n",
      "Requirement already satisfied: networkx in c:\\users\\chait\\anaconda3\\lib\\site-packages (from pgmpy) (2.5)\n",
      "Requirement already satisfied: pyparsing in c:\\users\\chait\\anaconda3\\lib\\site-packages (from pgmpy) (2.4.7)\n",
      "Requirement already satisfied: torch in c:\\users\\chait\\anaconda3\\lib\\site-packages (from pgmpy) (1.7.1)\n",
      "Requirement already satisfied: numpy in c:\\users\\chait\\anaconda3\\lib\\site-packages (from pgmpy) (1.19.2)\n",
      "Requirement already satisfied: pandas in c:\\users\\chait\\anaconda3\\lib\\site-packages (from pgmpy) (1.1.3)\n",
      "Requirement already satisfied: decorator>=4.3.0 in c:\\users\\chait\\anaconda3\\lib\\site-packages (from networkx->pgmpy) (4.4.2)\n",
      "Requirement already satisfied: python-dateutil>=2.7.3 in c:\\users\\chait\\anaconda3\\lib\\site-packages (from pandas->pgmpy) (2.8.1)\n",
      "Requirement already satisfied: pytz>=2017.2 in c:\\users\\chait\\anaconda3\\lib\\site-packages (from pandas->pgmpy) (2020.5)\n",
      "Requirement already satisfied: six>=1.5 in c:\\users\\chait\\anaconda3\\lib\\site-packages (from python-dateutil>=2.7.3->pandas->pgmpy) (1.15.0)\n",
      "Requirement already satisfied: threadpoolctl>=2.0.0 in c:\\users\\chait\\anaconda3\\lib\\site-packages (from scikit-learn->pgmpy) (2.1.0)\n",
      "Requirement already satisfied: patsy>=0.5 in c:\\users\\chait\\anaconda3\\lib\\site-packages (from statsmodels->pgmpy) (0.5.1)\n",
      "Requirement already satisfied: typing-extensions in c:\\users\\chait\\anaconda3\\lib\\site-packages (from torch->pgmpy) (3.7.4.3)\n"
     ]
    }
   ],
   "source": [
    "!pip install pgmpy"
   ]
  },
  {
   "cell_type": "code",
   "execution_count": 5,
   "metadata": {},
   "outputs": [
    {
     "name": "stdout",
     "output_type": "stream",
     "text": [
      "Few examples from the dataset are given below\n",
      "  age\\tsex\\tcp\\ttrestbps\\tchol\\tfbs\\trestecg\\tthalach\\texang\\toldpeak\\tslope\\tca\\tthal\\theartdisease\n",
      "0  63\\t1\\t3\\t145\\t233\\t1\\t0\\t150\\t0\\t2.3\\t0\\t0\\t1\\t1                                                \n",
      "1  37\\t1\\t2\\t130\\t250\\t0\\t1\\t187\\t0\\t3.5\\t0\\t0\\t2\\t1                                                \n",
      "2  41\\t0\\t1\\t130\\t204\\t0\\t0\\t172\\t0\\t1.4\\t2\\t0\\t2\\t1                                                \n",
      "3  56\\t1\\t1\\t120\\t236\\t0\\t1\\t178\\t0\\t0.8\\t2\\t0\\t2\\t1                                                \n",
      "4  57\\t0\\t0\\t120\\t354\\t0\\t1\\t163\\t1\\t0.6\\t2\\t0\\t2\\t1                                                \n",
      "\n",
      " Learning CPD using Maximum likelihood estimators\n"
     ]
    },
    {
     "ename": "ValueError",
     "evalue": "variable names of the model must be identical to column names in data",
     "output_type": "error",
     "traceback": [
      "\u001b[1;31m---------------------------------------------------------------------------\u001b[0m",
      "\u001b[1;31mValueError\u001b[0m                                Traceback (most recent call last)",
      "\u001b[1;32m<ipython-input-5-b0f8acd7aed2>\u001b[0m in \u001b[0;36m<module>\u001b[1;34m\u001b[0m\n\u001b[0;32m     16\u001b[0m \u001b[1;31m# Learning CPDs using Maximum Likelihood Estimators\u001b[0m\u001b[1;33m\u001b[0m\u001b[1;33m\u001b[0m\u001b[1;33m\u001b[0m\u001b[0m\n\u001b[0;32m     17\u001b[0m \u001b[0mprint\u001b[0m\u001b[1;33m(\u001b[0m\u001b[1;34m'\\n Learning CPD using Maximum likelihood estimators'\u001b[0m\u001b[1;33m)\u001b[0m\u001b[1;33m\u001b[0m\u001b[1;33m\u001b[0m\u001b[0m\n\u001b[1;32m---> 18\u001b[1;33m \u001b[0mmodel\u001b[0m\u001b[1;33m.\u001b[0m\u001b[0mfit\u001b[0m\u001b[1;33m(\u001b[0m\u001b[0mheartDisease\u001b[0m\u001b[1;33m,\u001b[0m \u001b[0mestimator\u001b[0m\u001b[1;33m=\u001b[0m\u001b[0mMaximumLikelihoodEstimator\u001b[0m\u001b[1;33m)\u001b[0m\u001b[1;33m\u001b[0m\u001b[1;33m\u001b[0m\u001b[0m\n\u001b[0m\u001b[0;32m     19\u001b[0m \u001b[1;31m# Inferencing with Bayesian Network\u001b[0m\u001b[1;33m\u001b[0m\u001b[1;33m\u001b[0m\u001b[1;33m\u001b[0m\u001b[0m\n\u001b[0;32m     20\u001b[0m \u001b[0mprint\u001b[0m\u001b[1;33m(\u001b[0m\u001b[1;34m'\\n Inferencing with Bayesian Network:'\u001b[0m\u001b[1;33m)\u001b[0m\u001b[1;33m\u001b[0m\u001b[1;33m\u001b[0m\u001b[0m\n",
      "\u001b[1;32m~\\anaconda3\\lib\\site-packages\\pgmpy\\models\\BayesianModel.py\u001b[0m in \u001b[0;36mfit\u001b[1;34m(self, data, estimator, state_names, complete_samples_only, **kwargs)\u001b[0m\n\u001b[0;32m    514\u001b[0m                 \u001b[1;32mraise\u001b[0m \u001b[0mTypeError\u001b[0m\u001b[1;33m(\u001b[0m\u001b[1;34m\"Estimator object should be a valid pgmpy estimator.\"\u001b[0m\u001b[1;33m)\u001b[0m\u001b[1;33m\u001b[0m\u001b[1;33m\u001b[0m\u001b[0m\n\u001b[0;32m    515\u001b[0m \u001b[1;33m\u001b[0m\u001b[0m\n\u001b[1;32m--> 516\u001b[1;33m         _estimator = estimator(\n\u001b[0m\u001b[0;32m    517\u001b[0m             \u001b[0mself\u001b[0m\u001b[1;33m,\u001b[0m\u001b[1;33m\u001b[0m\u001b[1;33m\u001b[0m\u001b[0m\n\u001b[0;32m    518\u001b[0m             \u001b[0mdata\u001b[0m\u001b[1;33m,\u001b[0m\u001b[1;33m\u001b[0m\u001b[1;33m\u001b[0m\u001b[0m\n",
      "\u001b[1;32m~\\anaconda3\\lib\\site-packages\\pgmpy\\estimators\\MLE.py\u001b[0m in \u001b[0;36m__init__\u001b[1;34m(self, model, data, **kwargs)\u001b[0m\n\u001b[0;32m     51\u001b[0m             )\n\u001b[0;32m     52\u001b[0m \u001b[1;33m\u001b[0m\u001b[0m\n\u001b[1;32m---> 53\u001b[1;33m         \u001b[0msuper\u001b[0m\u001b[1;33m(\u001b[0m\u001b[0mMaximumLikelihoodEstimator\u001b[0m\u001b[1;33m,\u001b[0m \u001b[0mself\u001b[0m\u001b[1;33m)\u001b[0m\u001b[1;33m.\u001b[0m\u001b[0m__init__\u001b[0m\u001b[1;33m(\u001b[0m\u001b[0mmodel\u001b[0m\u001b[1;33m,\u001b[0m \u001b[0mdata\u001b[0m\u001b[1;33m,\u001b[0m \u001b[1;33m**\u001b[0m\u001b[0mkwargs\u001b[0m\u001b[1;33m)\u001b[0m\u001b[1;33m\u001b[0m\u001b[1;33m\u001b[0m\u001b[0m\n\u001b[0m\u001b[0;32m     54\u001b[0m \u001b[1;33m\u001b[0m\u001b[0m\n\u001b[0;32m     55\u001b[0m     \u001b[1;32mdef\u001b[0m \u001b[0mget_parameters\u001b[0m\u001b[1;33m(\u001b[0m\u001b[0mself\u001b[0m\u001b[1;33m)\u001b[0m\u001b[1;33m:\u001b[0m\u001b[1;33m\u001b[0m\u001b[1;33m\u001b[0m\u001b[0m\n",
      "\u001b[1;32m~\\anaconda3\\lib\\site-packages\\pgmpy\\estimators\\base.py\u001b[0m in \u001b[0;36m__init__\u001b[1;34m(self, model, data, **kwargs)\u001b[0m\n\u001b[0;32m    191\u001b[0m \u001b[1;33m\u001b[0m\u001b[0m\n\u001b[0;32m    192\u001b[0m         \u001b[1;32mif\u001b[0m \u001b[1;32mnot\u001b[0m \u001b[0mset\u001b[0m\u001b[1;33m(\u001b[0m\u001b[0mmodel\u001b[0m\u001b[1;33m.\u001b[0m\u001b[0mnodes\u001b[0m\u001b[1;33m(\u001b[0m\u001b[1;33m)\u001b[0m\u001b[1;33m)\u001b[0m \u001b[1;33m<=\u001b[0m \u001b[0mset\u001b[0m\u001b[1;33m(\u001b[0m\u001b[0mdata\u001b[0m\u001b[1;33m.\u001b[0m\u001b[0mcolumns\u001b[0m\u001b[1;33m.\u001b[0m\u001b[0mvalues\u001b[0m\u001b[1;33m)\u001b[0m\u001b[1;33m:\u001b[0m\u001b[1;33m\u001b[0m\u001b[1;33m\u001b[0m\u001b[0m\n\u001b[1;32m--> 193\u001b[1;33m             raise ValueError(\n\u001b[0m\u001b[0;32m    194\u001b[0m                 \u001b[1;34m\"variable names of the model must be identical to column names in data\"\u001b[0m\u001b[1;33m\u001b[0m\u001b[1;33m\u001b[0m\u001b[0m\n\u001b[0;32m    195\u001b[0m             )\n",
      "\u001b[1;31mValueError\u001b[0m: variable names of the model must be identical to column names in data"
     ]
    }
   ],
   "source": [
    "import numpy as np\n",
    "import csv\n",
    "import pandas as pd\n",
    "from pgmpy.models import BayesianModel\n",
    "from pgmpy.estimators import MaximumLikelihoodEstimator\n",
    "from pgmpy.inference import VariableElimination\n",
    "# read Cleveland Heart Disease data\n",
    "heartDisease = pd.read_csv('./datasets/heart.csv')\n",
    "heartDisease = heartDisease.replace('?', np.nan)\n",
    "# display the data\n",
    "print('Few examples from the dataset are given below')\n",
    "print(heartDisease.head())\n",
    "# Model Bayesian Network\n",
    "model = BayesianModel([('age', 'trestbps'), ('age', 'fbs'), ('sex', 'trestbps'), ('exang', 'trestbps'), ('trestbps', 'heartdisease'),\n",
    "                       ('fbs', 'heartdisease'), ('heartdisease', 'restecg'), ('heartdisease', 'thalach'), ('heartdisease', 'chol')])\n",
    "# Learning CPDs using Maximum Likelihood Estimators\n",
    "print('\\n Learning CPD using Maximum likelihood estimators')\n",
    "model.fit(heartDisease, estimator=MaximumLikelihoodEstimator)\n",
    "# Inferencing with Bayesian Network\n",
    "print('\\n Inferencing with Bayesian Network:')\n",
    "HeartDisease_infer = VariableElimination(model)\n",
    "# computing the Probability of HeartDisease given Age\n",
    "print('\\n 1. Probability of HeartDisease given Age=30')\n",
    "q1 = HeartDisease_infer.query(variables=['heartdisease'], evidence={'age': 28})\n",
    "print(q1)\n",
    "# computing the Probability of HeartDisease given cholesterol\n",
    "print('\\n 2. Probability of HeartDisease given cholesterol=100')\n",
    "q2 = HeartDisease_infer.query(\n",
    "    variables=['heartdisease'], evidence={'chol': 100})\n",
    "print(q2)\n"
   ]
  },
  {
   "cell_type": "code",
   "execution_count": null,
   "metadata": {},
   "outputs": [],
   "source": []
  }
 ],
 "metadata": {
  "kernelspec": {
   "display_name": "Python 3",
   "language": "python",
   "name": "python3"
  },
  "language_info": {
   "codemirror_mode": {
    "name": "ipython",
    "version": 3
   },
   "file_extension": ".py",
   "mimetype": "text/x-python",
   "name": "python",
   "nbconvert_exporter": "python",
   "pygments_lexer": "ipython3",
   "version": "3.8.3"
  }
 },
 "nbformat": 4,
 "nbformat_minor": 4
}
